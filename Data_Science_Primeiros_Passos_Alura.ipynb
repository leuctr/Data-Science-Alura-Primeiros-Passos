{
  "nbformat": 4,
  "nbformat_minor": 0,
  "metadata": {
    "colab": {
      "name": "Data Science: Primeiros Passos - Alura",
      "provenance": [],
      "collapsed_sections": [],
      "authorship_tag": "ABX9TyNTf48NY5TNhDlLJBpokSB6",
      "include_colab_link": true
    },
    "kernelspec": {
      "name": "python3",
      "display_name": "Python 3"
    },
    "language_info": {
      "name": "python"
    }
  },
  "cells": [
    {
      "cell_type": "markdown",
      "metadata": {
        "id": "view-in-github",
        "colab_type": "text"
      },
      "source": [
        "<a href=\"https://colab.research.google.com/github/leuctr/Data-Science-Alura-Primeiros-Passos/blob/main/Data_Science_Primeiros_Passos_Alura.ipynb\" target=\"_parent\"><img src=\"https://colab.research.google.com/assets/colab-badge.svg\" alt=\"Open In Colab\"/></a>"
      ]
    },
    {
      "cell_type": "markdown",
      "metadata": {
        "id": "JQERJOmhUsvW"
      },
      "source": [
        "# Importando biblioteca e primeiras análises"
      ]
    },
    {
      "cell_type": "code",
      "metadata": {
        "colab": {
          "base_uri": "https://localhost:8080/",
          "height": 204
        },
        "id": "fnpETG-ZWhWd",
        "outputId": "ed825163-a02b-40fd-87fe-561277f3cbbf"
      },
      "source": [
        "import pandas as pd\n",
        "notas = pd.read_csv(\"ratings.csv\")\n",
        "notas.head()"
      ],
      "execution_count": null,
      "outputs": [
        {
          "output_type": "execute_result",
          "data": {
            "text/html": [
              "<div>\n",
              "<style scoped>\n",
              "    .dataframe tbody tr th:only-of-type {\n",
              "        vertical-align: middle;\n",
              "    }\n",
              "\n",
              "    .dataframe tbody tr th {\n",
              "        vertical-align: top;\n",
              "    }\n",
              "\n",
              "    .dataframe thead th {\n",
              "        text-align: right;\n",
              "    }\n",
              "</style>\n",
              "<table border=\"1\" class=\"dataframe\">\n",
              "  <thead>\n",
              "    <tr style=\"text-align: right;\">\n",
              "      <th></th>\n",
              "      <th>userId</th>\n",
              "      <th>movieId</th>\n",
              "      <th>rating</th>\n",
              "      <th>timestamp</th>\n",
              "    </tr>\n",
              "  </thead>\n",
              "  <tbody>\n",
              "    <tr>\n",
              "      <th>0</th>\n",
              "      <td>1</td>\n",
              "      <td>1</td>\n",
              "      <td>4.0</td>\n",
              "      <td>964982703</td>\n",
              "    </tr>\n",
              "    <tr>\n",
              "      <th>1</th>\n",
              "      <td>1</td>\n",
              "      <td>3</td>\n",
              "      <td>4.0</td>\n",
              "      <td>964981247</td>\n",
              "    </tr>\n",
              "    <tr>\n",
              "      <th>2</th>\n",
              "      <td>1</td>\n",
              "      <td>6</td>\n",
              "      <td>4.0</td>\n",
              "      <td>964982224</td>\n",
              "    </tr>\n",
              "    <tr>\n",
              "      <th>3</th>\n",
              "      <td>1</td>\n",
              "      <td>47</td>\n",
              "      <td>5.0</td>\n",
              "      <td>964983815</td>\n",
              "    </tr>\n",
              "    <tr>\n",
              "      <th>4</th>\n",
              "      <td>1</td>\n",
              "      <td>50</td>\n",
              "      <td>5.0</td>\n",
              "      <td>964982931</td>\n",
              "    </tr>\n",
              "  </tbody>\n",
              "</table>\n",
              "</div>"
            ],
            "text/plain": [
              "   userId  movieId  rating  timestamp\n",
              "0       1        1     4.0  964982703\n",
              "1       1        3     4.0  964981247\n",
              "2       1        6     4.0  964982224\n",
              "3       1       47     5.0  964983815\n",
              "4       1       50     5.0  964982931"
            ]
          },
          "metadata": {},
          "execution_count": 1
        }
      ]
    },
    {
      "cell_type": "markdown",
      "metadata": {
        "id": "CkWRQr3mU1d7"
      },
      "source": [
        "Quantidade total de avaliações, colunas"
      ]
    },
    {
      "cell_type": "code",
      "metadata": {
        "colab": {
          "base_uri": "https://localhost:8080/"
        },
        "id": "3PbZnGGPXAh3",
        "outputId": "3e2c86ad-a229-4b02-fdf1-565d59a3b512"
      },
      "source": [
        "notas.shape"
      ],
      "execution_count": null,
      "outputs": [
        {
          "output_type": "execute_result",
          "data": {
            "text/plain": [
              "(100836, 4)"
            ]
          },
          "metadata": {},
          "execution_count": 2
        }
      ]
    },
    {
      "cell_type": "markdown",
      "metadata": {
        "id": "3QNMiykYF0Ds"
      },
      "source": [
        "Alterando Titulo das Colunas"
      ]
    },
    {
      "cell_type": "code",
      "metadata": {
        "id": "lGIKrS_fXtoq"
      },
      "source": [
        "notas.columns= [\"usuarioId\", \"filmeId\", \"nota\", \"momento\"]"
      ],
      "execution_count": null,
      "outputs": []
    },
    {
      "cell_type": "code",
      "metadata": {
        "colab": {
          "base_uri": "https://localhost:8080/",
          "height": 204
        },
        "id": "3wOoTZH5YDgp",
        "outputId": "16c29943-d1b2-40d0-ba19-c77701f8456e"
      },
      "source": [
        "notas.head()"
      ],
      "execution_count": null,
      "outputs": [
        {
          "output_type": "execute_result",
          "data": {
            "text/html": [
              "<div>\n",
              "<style scoped>\n",
              "    .dataframe tbody tr th:only-of-type {\n",
              "        vertical-align: middle;\n",
              "    }\n",
              "\n",
              "    .dataframe tbody tr th {\n",
              "        vertical-align: top;\n",
              "    }\n",
              "\n",
              "    .dataframe thead th {\n",
              "        text-align: right;\n",
              "    }\n",
              "</style>\n",
              "<table border=\"1\" class=\"dataframe\">\n",
              "  <thead>\n",
              "    <tr style=\"text-align: right;\">\n",
              "      <th></th>\n",
              "      <th>usuarioId</th>\n",
              "      <th>filmeId</th>\n",
              "      <th>nota</th>\n",
              "      <th>momento</th>\n",
              "    </tr>\n",
              "  </thead>\n",
              "  <tbody>\n",
              "    <tr>\n",
              "      <th>0</th>\n",
              "      <td>1</td>\n",
              "      <td>1</td>\n",
              "      <td>4.0</td>\n",
              "      <td>964982703</td>\n",
              "    </tr>\n",
              "    <tr>\n",
              "      <th>1</th>\n",
              "      <td>1</td>\n",
              "      <td>3</td>\n",
              "      <td>4.0</td>\n",
              "      <td>964981247</td>\n",
              "    </tr>\n",
              "    <tr>\n",
              "      <th>2</th>\n",
              "      <td>1</td>\n",
              "      <td>6</td>\n",
              "      <td>4.0</td>\n",
              "      <td>964982224</td>\n",
              "    </tr>\n",
              "    <tr>\n",
              "      <th>3</th>\n",
              "      <td>1</td>\n",
              "      <td>47</td>\n",
              "      <td>5.0</td>\n",
              "      <td>964983815</td>\n",
              "    </tr>\n",
              "    <tr>\n",
              "      <th>4</th>\n",
              "      <td>1</td>\n",
              "      <td>50</td>\n",
              "      <td>5.0</td>\n",
              "      <td>964982931</td>\n",
              "    </tr>\n",
              "  </tbody>\n",
              "</table>\n",
              "</div>"
            ],
            "text/plain": [
              "   usuarioId  filmeId  nota    momento\n",
              "0          1        1   4.0  964982703\n",
              "1          1        3   4.0  964981247\n",
              "2          1        6   4.0  964982224\n",
              "3          1       47   5.0  964983815\n",
              "4          1       50   5.0  964982931"
            ]
          },
          "metadata": {},
          "execution_count": 4
        }
      ]
    },
    {
      "cell_type": "markdown",
      "metadata": {
        "id": "2AxFTN-RF8tF"
      },
      "source": [
        "Separando as notas que existem no arquivo"
      ]
    },
    {
      "cell_type": "code",
      "metadata": {
        "colab": {
          "base_uri": "https://localhost:8080/"
        },
        "id": "cWz00s-sYHNb",
        "outputId": "dbe6d1e1-7df9-48db-8af0-f16fdd23b0b6"
      },
      "source": [
        "notas['nota'].unique()"
      ],
      "execution_count": null,
      "outputs": [
        {
          "output_type": "execute_result",
          "data": {
            "text/plain": [
              "array([4. , 5. , 3. , 2. , 1. , 4.5, 3.5, 2.5, 0.5, 1.5])"
            ]
          },
          "metadata": {},
          "execution_count": 5
        }
      ]
    },
    {
      "cell_type": "markdown",
      "metadata": {
        "id": "L2jQGtR5U7u6"
      },
      "source": [
        "Quantidade de avaliações por notas"
      ]
    },
    {
      "cell_type": "code",
      "metadata": {
        "colab": {
          "base_uri": "https://localhost:8080/"
        },
        "id": "IDtD6OJZYVfY",
        "outputId": "b4103c08-7d89-4953-a968-4a7037e1d362"
      },
      "source": [
        "notas['nota'].value_counts()"
      ],
      "execution_count": null,
      "outputs": [
        {
          "output_type": "execute_result",
          "data": {
            "text/plain": [
              "4.0    26818\n",
              "3.0    20047\n",
              "5.0    13211\n",
              "3.5    13136\n",
              "4.5     8551\n",
              "2.0     7551\n",
              "2.5     5550\n",
              "1.0     2811\n",
              "1.5     1791\n",
              "0.5     1370\n",
              "Name: nota, dtype: int64"
            ]
          },
          "metadata": {},
          "execution_count": 6
        }
      ]
    },
    {
      "cell_type": "markdown",
      "metadata": {
        "id": "UplOpb-JVC9S"
      },
      "source": [
        "Media e Mediana das notas existentes no arquivo"
      ]
    },
    {
      "cell_type": "code",
      "metadata": {
        "colab": {
          "base_uri": "https://localhost:8080/"
        },
        "id": "UZSVrc64Y8iZ",
        "outputId": "b1f7c834-9500-41f0-9e1d-5afd3f18b9db"
      },
      "source": [
        "print (\"Media\",notas['nota'].mean())\n",
        "print (\"Mediana\",notas['nota'].median())"
      ],
      "execution_count": null,
      "outputs": [
        {
          "output_type": "stream",
          "name": "stdout",
          "text": [
            "Media 3.501556983616962\n",
            "Mediana 3.5\n"
          ]
        }
      ]
    },
    {
      "cell_type": "markdown",
      "metadata": {
        "id": "cDEvskSoVQ2h"
      },
      "source": [
        "Todas as Notas"
      ]
    },
    {
      "cell_type": "code",
      "metadata": {
        "colab": {
          "base_uri": "https://localhost:8080/"
        },
        "id": "giNDs8-sZMAG",
        "outputId": "c1e1b438-12c6-41f4-dde3-42d755d17697"
      },
      "source": [
        "notas.nota"
      ],
      "execution_count": null,
      "outputs": [
        {
          "output_type": "execute_result",
          "data": {
            "text/plain": [
              "0         4.0\n",
              "1         4.0\n",
              "2         4.0\n",
              "3         5.0\n",
              "4         5.0\n",
              "         ... \n",
              "100831    4.0\n",
              "100832    5.0\n",
              "100833    5.0\n",
              "100834    5.0\n",
              "100835    3.0\n",
              "Name: nota, Length: 100836, dtype: float64"
            ]
          },
          "metadata": {},
          "execution_count": 8
        }
      ]
    },
    {
      "cell_type": "code",
      "metadata": {
        "colab": {
          "base_uri": "https://localhost:8080/"
        },
        "id": "nV9QDm1NdoGJ",
        "outputId": "64b2c37d-ed8a-4f3b-e3be-09f0fa446db4"
      },
      "source": [
        "notas.nota.head()\n"
      ],
      "execution_count": null,
      "outputs": [
        {
          "output_type": "execute_result",
          "data": {
            "text/plain": [
              "0    4.0\n",
              "1    4.0\n",
              "2    4.0\n",
              "3    5.0\n",
              "4    5.0\n",
              "Name: nota, dtype: float64"
            ]
          },
          "metadata": {},
          "execution_count": 9
        }
      ]
    },
    {
      "cell_type": "markdown",
      "metadata": {
        "id": "RXQHekzrVVV4"
      },
      "source": [
        "# Plotando e utilizando gráficos"
      ]
    },
    {
      "cell_type": "code",
      "metadata": {
        "colab": {
          "base_uri": "https://localhost:8080/",
          "height": 282
        },
        "id": "oQuTydJvd3ef",
        "outputId": "8df9c3c9-e702-4979-9537-eac4548623c7"
      },
      "source": [
        "notas.nota.plot(kind=\"hist\")"
      ],
      "execution_count": null,
      "outputs": [
        {
          "output_type": "execute_result",
          "data": {
            "text/plain": [
              "<matplotlib.axes._subplots.AxesSubplot at 0x7f5519c3b550>"
            ]
          },
          "metadata": {},
          "execution_count": 10
        },
        {
          "output_type": "display_data",
          "data": {
            "image/png": "[encoded data removed]",
            "text/plain": [
              "<Figure size 432x288 with 1 Axes>"
            ]
          },
          "metadata": {
            "needs_background": "light"
          }
        }
      ]
    },
    {
      "cell_type": "code",
      "metadata": {
        "colab": {
          "base_uri": "https://localhost:8080/"
        },
        "id": "GYu05gPBd9jV",
        "outputId": "57988ef0-4d74-4bd5-9140-ea1a495651cb"
      },
      "source": [
        " notas.nota.describe()"
      ],
      "execution_count": null,
      "outputs": [
        {
          "output_type": "execute_result",
          "data": {
            "text/plain": [
              "count    100836.000000\n",
              "mean          3.501557\n",
              "std           1.042529\n",
              "min           0.500000\n",
              "25%           3.000000\n",
              "50%           3.500000\n",
              "75%           4.000000\n",
              "max           5.000000\n",
              "Name: nota, dtype: float64"
            ]
          },
          "metadata": {},
          "execution_count": 11
        }
      ]
    },
    {
      "cell_type": "markdown",
      "metadata": {
        "id": "shNI4Wd5Vdbo"
      },
      "source": [
        "Biblioteca Seaborn"
      ]
    },
    {
      "cell_type": "code",
      "metadata": {
        "colab": {
          "base_uri": "https://localhost:8080/",
          "height": 350
        },
        "id": "U9Qm5m2dglkG",
        "outputId": "12748418-0fa9-4f78-d192-35b24f842419"
      },
      "source": [
        "import seaborn as sns \n",
        "\n",
        "sns.boxplot(notas.nota)"
      ],
      "execution_count": null,
      "outputs": [
        {
          "output_type": "stream",
          "name": "stderr",
          "text": [
            "/usr/local/lib/python3.7/dist-packages/seaborn/_decorators.py:43: FutureWarning: Pass the following variable as a keyword arg: x. From version 0.12, the only valid positional argument will be `data`, and passing other arguments without an explicit keyword will result in an error or misinterpretation.\n",
            "  FutureWarning\n"
          ]
        },
        {
          "output_type": "execute_result",
          "data": {
            "text/plain": [
              "<matplotlib.axes._subplots.AxesSubplot at 0x7f550b4e67d0>"
            ]
          },
          "metadata": {},
          "execution_count": 12
        },
        {
          "output_type": "display_data",
          "data": {
            "image/png": "[encoded data removed]",
            "text/plain": [
              "<Figure size 432x288 with 1 Axes>"
            ]
          },
          "metadata": {
            "needs_background": "light"
          }
        }
      ]
    },
    {
      "cell_type": "code",
      "metadata": {
        "colab": {
          "base_uri": "https://localhost:8080/",
          "height": 204
        },
        "id": "qwBOwWENh6K5",
        "outputId": "e8621293-7520-4106-fbfd-17f802fb6b6d"
      },
      "source": [
        "filmes = pd.read_csv(\"movies.csv\")\n",
        "filmes.columns = (\"filmeId\", \"titulo\", \"generos\")\n",
        "filmes.head()"
      ],
      "execution_count": null,
      "outputs": [
        {
          "output_type": "execute_result",
          "data": {
            "text/html": [
              "<div>\n",
              "<style scoped>\n",
              "    .dataframe tbody tr th:only-of-type {\n",
              "        vertical-align: middle;\n",
              "    }\n",
              "\n",
              "    .dataframe tbody tr th {\n",
              "        vertical-align: top;\n",
              "    }\n",
              "\n",
              "    .dataframe thead th {\n",
              "        text-align: right;\n",
              "    }\n",
              "</style>\n",
              "<table border=\"1\" class=\"dataframe\">\n",
              "  <thead>\n",
              "    <tr style=\"text-align: right;\">\n",
              "      <th></th>\n",
              "      <th>filmeId</th>\n",
              "      <th>titulo</th>\n",
              "      <th>generos</th>\n",
              "    </tr>\n",
              "  </thead>\n",
              "  <tbody>\n",
              "    <tr>\n",
              "      <th>0</th>\n",
              "      <td>1</td>\n",
              "      <td>Toy Story (1995)</td>\n",
              "      <td>Adventure|Animation|Children|Comedy|Fantasy</td>\n",
              "    </tr>\n",
              "    <tr>\n",
              "      <th>1</th>\n",
              "      <td>2</td>\n",
              "      <td>Jumanji (1995)</td>\n",
              "      <td>Adventure|Children|Fantasy</td>\n",
              "    </tr>\n",
              "    <tr>\n",
              "      <th>2</th>\n",
              "      <td>3</td>\n",
              "      <td>Grumpier Old Men (1995)</td>\n",
              "      <td>Comedy|Romance</td>\n",
              "    </tr>\n",
              "    <tr>\n",
              "      <th>3</th>\n",
              "      <td>4</td>\n",
              "      <td>Waiting to Exhale (1995)</td>\n",
              "      <td>Comedy|Drama|Romance</td>\n",
              "    </tr>\n",
              "    <tr>\n",
              "      <th>4</th>\n",
              "      <td>5</td>\n",
              "      <td>Father of the Bride Part II (1995)</td>\n",
              "      <td>Comedy</td>\n",
              "    </tr>\n",
              "  </tbody>\n",
              "</table>\n",
              "</div>"
            ],
            "text/plain": [
              "   filmeId  ...                                      generos\n",
              "0        1  ...  Adventure|Animation|Children|Comedy|Fantasy\n",
              "1        2  ...                   Adventure|Children|Fantasy\n",
              "2        3  ...                               Comedy|Romance\n",
              "3        4  ...                         Comedy|Drama|Romance\n",
              "4        5  ...                                       Comedy\n",
              "\n",
              "[5 rows x 3 columns]"
            ]
          },
          "metadata": {},
          "execution_count": 13
        }
      ]
    },
    {
      "cell_type": "code",
      "metadata": {
        "id": "A7U8tGYUl9s6"
      },
      "source": [
        ""
      ],
      "execution_count": null,
      "outputs": []
    },
    {
      "cell_type": "markdown",
      "metadata": {
        "id": "eXEersaKmmTI"
      },
      "source": [
        "# Analisando a nota de Filme Especifico"
      ]
    },
    {
      "cell_type": "code",
      "metadata": {
        "colab": {
          "base_uri": "https://localhost:8080/"
        },
        "id": "8U_TPIfRl-Hw",
        "outputId": "339c2388-1f78-4e03-e86a-c45f9d83556b"
      },
      "source": [
        "notas.query(\"filmeId==1\").nota.mean()"
      ],
      "execution_count": null,
      "outputs": [
        {
          "output_type": "execute_result",
          "data": {
            "text/plain": [
              "3.9209302325581397"
            ]
          },
          "metadata": {},
          "execution_count": 14
        }
      ]
    },
    {
      "cell_type": "code",
      "metadata": {
        "colab": {
          "base_uri": "https://localhost:8080/"
        },
        "id": "WT5v4PWclcL2",
        "outputId": "dd45b40a-f8b6-4a30-9f41-ee7fb5bb747e"
      },
      "source": [
        "notas.query(\"filmeId==2\").nota.mean()"
      ],
      "execution_count": null,
      "outputs": [
        {
          "output_type": "execute_result",
          "data": {
            "text/plain": [
              "3.4318181818181817"
            ]
          },
          "metadata": {},
          "execution_count": 15
        }
      ]
    },
    {
      "cell_type": "code",
      "metadata": {
        "colab": {
          "base_uri": "https://localhost:8080/"
        },
        "id": "mvlPS90jm1qg",
        "outputId": "c91ba9a8-8ed8-4f1d-80eb-037550507037"
      },
      "source": [
        "medias_por_filme = notas.groupby(\"filmeId\").mean()[\"nota\"]\n",
        "medias_por_filme.head()"
      ],
      "execution_count": null,
      "outputs": [
        {
          "output_type": "execute_result",
          "data": {
            "text/plain": [
              "filmeId\n",
              "1    3.920930\n",
              "2    3.431818\n",
              "3    3.259615\n",
              "4    2.357143\n",
              "5    3.071429\n",
              "Name: nota, dtype: float64"
            ]
          },
          "metadata": {},
          "execution_count": 16
        }
      ]
    },
    {
      "cell_type": "code",
      "metadata": {
        "colab": {
          "base_uri": "https://localhost:8080/",
          "height": 282
        },
        "id": "bRtY_7-SnDm7",
        "outputId": "498e6162-4d9f-4b0f-fc10-143ad104ca2b"
      },
      "source": [
        "medias_por_filme.plot(kind=\"hist\")"
      ],
      "execution_count": null,
      "outputs": [
        {
          "output_type": "execute_result",
          "data": {
            "text/plain": [
              "<matplotlib.axes._subplots.AxesSubplot at 0x7f550b34c690>"
            ]
          },
          "metadata": {},
          "execution_count": 17
        },
        {
          "output_type": "display_data",
          "data": {
            "image/png": "[encoded data removed]",
            "text/plain": [
              "<Figure size 432x288 with 1 Axes>"
            ]
          },
          "metadata": {
            "needs_background": "light"
          }
        }
      ]
    },
    {
      "cell_type": "code",
      "metadata": {
        "colab": {
          "base_uri": "https://localhost:8080/",
          "height": 350
        },
        "id": "b6QSLEdtp-Od",
        "outputId": "7988fd88-5321-49b7-ee17-ef165faac9a2"
      },
      "source": [
        "sns.boxplot(medias_por_filme)"
      ],
      "execution_count": null,
      "outputs": [
        {
          "output_type": "stream",
          "name": "stderr",
          "text": [
            "/usr/local/lib/python3.7/dist-packages/seaborn/_decorators.py:43: FutureWarning: Pass the following variable as a keyword arg: x. From version 0.12, the only valid positional argument will be `data`, and passing other arguments without an explicit keyword will result in an error or misinterpretation.\n",
            "  FutureWarning\n"
          ]
        },
        {
          "output_type": "execute_result",
          "data": {
            "text/plain": [
              "<matplotlib.axes._subplots.AxesSubplot at 0x7f550a7ec3d0>"
            ]
          },
          "metadata": {},
          "execution_count": 18
        },
        {
          "output_type": "display_data",
          "data": {
            "image/png": "[encoded data removed]",
            "text/plain": [
              "<Figure size 432x288 with 1 Axes>"
            ]
          },
          "metadata": {
            "needs_background": "light"
          }
        }
      ]
    },
    {
      "cell_type": "code",
      "metadata": {
        "colab": {
          "base_uri": "https://localhost:8080/"
        },
        "id": "261d7ufCqYf4",
        "outputId": "c3c81b48-c0ff-46ad-b8d2-2c1516507d1d"
      },
      "source": [
        "medias_por_filme.describe()"
      ],
      "execution_count": null,
      "outputs": [
        {
          "output_type": "execute_result",
          "data": {
            "text/plain": [
              "count    9724.000000\n",
              "mean        3.262448\n",
              "std         0.869874\n",
              "min         0.500000\n",
              "25%         2.800000\n",
              "50%         3.416667\n",
              "75%         3.911765\n",
              "max         5.000000\n",
              "Name: nota, dtype: float64"
            ]
          },
          "metadata": {},
          "execution_count": 19
        }
      ]
    },
    {
      "cell_type": "code",
      "metadata": {
        "colab": {
          "base_uri": "https://localhost:8080/",
          "height": 350
        },
        "id": "_SEQtdQIqwwJ",
        "outputId": "6d0d4f50-24bf-4643-bf8f-d86815107bba"
      },
      "source": [
        "sns.distplot(medias_por_filme, bins=10)"
      ],
      "execution_count": null,
      "outputs": [
        {
          "output_type": "stream",
          "name": "stderr",
          "text": [
            "/usr/local/lib/python3.7/dist-packages/seaborn/distributions.py:2619: FutureWarning: `distplot` is a deprecated function and will be removed in a future version. Please adapt your code to use either `displot` (a figure-level function with similar flexibility) or `histplot` (an axes-level function for histograms).\n",
            "  warnings.warn(msg, FutureWarning)\n"
          ]
        },
        {
          "output_type": "execute_result",
          "data": {
            "text/plain": [
              "<matplotlib.axes._subplots.AxesSubplot at 0x7f550a78ddd0>"
            ]
          },
          "metadata": {},
          "execution_count": 20
        },
        {
          "output_type": "display_data",
          "data": {
            "image/png": "[encoded data removed]",
            "text/plain": [
              "<Figure size 432x288 with 1 Axes>"
            ]
          },
          "metadata": {
            "needs_background": "light"
          }
        }
      ]
    },
    {
      "cell_type": "code",
      "metadata": {
        "colab": {
          "base_uri": "https://localhost:8080/",
          "height": 298
        },
        "id": "qDDTvXp5q6bk",
        "outputId": "4df1ff51-32ad-454d-d822-627c162ef5f6"
      },
      "source": [
        "import matplotlib.pyplot as plt\n",
        "plt.hist(medias_por_filme)\n",
        "plt.title(\"Histograma das medias dos filmes\")"
      ],
      "execution_count": null,
      "outputs": [
        {
          "output_type": "execute_result",
          "data": {
            "text/plain": [
              "Text(0.5, 1.0, 'Histograma das medias dos filmes')"
            ]
          },
          "metadata": {},
          "execution_count": 21
        },
        {
          "output_type": "display_data",
          "data": {
            "image/png": "[encoded data removed]",
            "text/plain": [
              "<Figure size 432x288 with 1 Axes>"
            ]
          },
          "metadata": {
            "needs_background": "light"
          }
        }
      ]
    },
    {
      "cell_type": "code",
      "metadata": {
        "id": "C738kkr3r1G_"
      },
      "source": [
        ""
      ],
      "execution_count": null,
      "outputs": []
    },
    {
      "cell_type": "markdown",
      "metadata": {
        "id": "BPI73DomWmEm"
      },
      "source": [
        "# Diferentes tipos de Dados"
      ]
    },
    {
      "cell_type": "code",
      "metadata": {
        "colab": {
          "base_uri": "https://localhost:8080/",
          "height": 717
        },
        "id": "L2Lge_OpWufM",
        "outputId": "bf9b7a29-9420-472f-d5c3-2a0163c2e0ba"
      },
      "source": [
        "tmdb = pd.read_csv(\"tmdb_5000_movies.csv\")\n",
        "tmdb.head()"
      ],
      "execution_count": null,
      "outputs": [
        {
          "output_type": "execute_result",
          "data": {
            "text/html": [
              "<div>\n",
              "<style scoped>\n",
              "    .dataframe tbody tr th:only-of-type {\n",
              "        vertical-align: middle;\n",
              "    }\n",
              "\n",
              "    .dataframe tbody tr th {\n",
              "        vertical-align: top;\n",
              "    }\n",
              "\n",
              "    .dataframe thead th {\n",
              "        text-align: right;\n",
              "    }\n",
              "</style>\n",
              "<table border=\"1\" class=\"dataframe\">\n",
              "  <thead>\n",
              "    <tr style=\"text-align: right;\">\n",
              "      <th></th>\n",
              "      <th>budget</th>\n",
              "      <th>genres</th>\n",
              "      <th>homepage</th>\n",
              "      <th>id</th>\n",
              "      <th>keywords</th>\n",
              "      <th>original_language</th>\n",
              "      <th>original_title</th>\n",
              "      <th>overview</th>\n",
              "      <th>popularity</th>\n",
              "      <th>production_companies</th>\n",
              "      <th>production_countries</th>\n",
              "      <th>release_date</th>\n",
              "      <th>revenue</th>\n",
              "      <th>runtime</th>\n",
              "      <th>spoken_languages</th>\n",
              "      <th>status</th>\n",
              "      <th>tagline</th>\n",
              "      <th>title</th>\n",
              "      <th>vote_average</th>\n",
              "      <th>vote_count</th>\n",
              "    </tr>\n",
              "  </thead>\n",
              "  <tbody>\n",
              "    <tr>\n",
              "      <th>0</th>\n",
              "      <td>237000000</td>\n",
              "      <td>[{\"id\": 28, \"name\": \"Action\"}, {\"id\": 12, \"nam...</td>\n",
              "      <td>http://www.avatarmovie.com/</td>\n",
              "      <td>19995</td>\n",
              "      <td>[{\"id\": 1463, \"name\": \"culture clash\"}, {\"id\":...</td>\n",
              "      <td>en</td>\n",
              "      <td>Avatar</td>\n",
              "      <td>In the 22nd century, a paraplegic Marine is di...</td>\n",
              "      <td>150.437577</td>\n",
              "      <td>[{\"name\": \"Ingenious Film Partners\", \"id\": 289...</td>\n",
              "      <td>[{\"iso_3166_1\": \"US\", \"name\": \"United States o...</td>\n",
              "      <td>2009-12-10</td>\n",
              "      <td>2787965087</td>\n",
              "      <td>162.0</td>\n",
              "      <td>[{\"iso_639_1\": \"en\", \"name\": \"English\"}, {\"iso...</td>\n",
              "      <td>Released</td>\n",
              "      <td>Enter the World of Pandora.</td>\n",
              "      <td>Avatar</td>\n",
              "      <td>7.2</td>\n",
              "      <td>11800</td>\n",
              "    </tr>\n",
              "    <tr>\n",
              "      <th>1</th>\n",
              "      <td>300000000</td>\n",
              "      <td>[{\"id\": 12, \"name\": \"Adventure\"}, {\"id\": 14, \"...</td>\n",
              "      <td>http://disney.go.com/disneypictures/pirates/</td>\n",
              "      <td>285</td>\n",
              "      <td>[{\"id\": 270, \"name\": \"ocean\"}, {\"id\": 726, \"na...</td>\n",
              "      <td>en</td>\n",
              "      <td>Pirates of the Caribbean: At World's End</td>\n",
              "      <td>Captain Barbossa, long believed to be dead, ha...</td>\n",
              "      <td>139.082615</td>\n",
              "      <td>[{\"name\": \"Walt Disney Pictures\", \"id\": 2}, {\"...</td>\n",
              "      <td>[{\"iso_3166_1\": \"US\", \"name\": \"United States o...</td>\n",
              "      <td>2007-05-19</td>\n",
              "      <td>961000000</td>\n",
              "      <td>169.0</td>\n",
              "      <td>[{\"iso_639_1\": \"en\", \"name\": \"English\"}]</td>\n",
              "      <td>Released</td>\n",
              "      <td>At the end of the world, the adventure begins.</td>\n",
              "      <td>Pirates of the Caribbean: At World's End</td>\n",
              "      <td>6.9</td>\n",
              "      <td>4500</td>\n",
              "    </tr>\n",
              "    <tr>\n",
              "      <th>2</th>\n",
              "      <td>245000000</td>\n",
              "      <td>[{\"id\": 28, \"name\": \"Action\"}, {\"id\": 12, \"nam...</td>\n",
              "      <td>http://www.sonypictures.com/movies/spectre/</td>\n",
              "      <td>206647</td>\n",
              "      <td>[{\"id\": 470, \"name\": \"spy\"}, {\"id\": 818, \"name...</td>\n",
              "      <td>en</td>\n",
              "      <td>Spectre</td>\n",
              "      <td>A cryptic message from Bond’s past sends him o...</td>\n",
              "      <td>107.376788</td>\n",
              "      <td>[{\"name\": \"Columbia Pictures\", \"id\": 5}, {\"nam...</td>\n",
              "      <td>[{\"iso_3166_1\": \"GB\", \"name\": \"United Kingdom\"...</td>\n",
              "      <td>2015-10-26</td>\n",
              "      <td>880674609</td>\n",
              "      <td>148.0</td>\n",
              "      <td>[{\"iso_639_1\": \"fr\", \"name\": \"Fran\\u00e7ais\"},...</td>\n",
              "      <td>Released</td>\n",
              "      <td>A Plan No One Escapes</td>\n",
              "      <td>Spectre</td>\n",
              "      <td>6.3</td>\n",
              "      <td>4466</td>\n",
              "    </tr>\n",
              "    <tr>\n",
              "      <th>3</th>\n",
              "      <td>250000000</td>\n",
              "      <td>[{\"id\": 28, \"name\": \"Action\"}, {\"id\": 80, \"nam...</td>\n",
              "      <td>http://www.thedarkknightrises.com/</td>\n",
              "      <td>49026</td>\n",
              "      <td>[{\"id\": 849, \"name\": \"dc comics\"}, {\"id\": 853,...</td>\n",
              "      <td>en</td>\n",
              "      <td>The Dark Knight Rises</td>\n",
              "      <td>Following the death of District Attorney Harve...</td>\n",
              "      <td>112.312950</td>\n",
              "      <td>[{\"name\": \"Legendary Pictures\", \"id\": 923}, {\"...</td>\n",
              "      <td>[{\"iso_3166_1\": \"US\", \"name\": \"United States o...</td>\n",
              "      <td>2012-07-16</td>\n",
              "      <td>1084939099</td>\n",
              "      <td>165.0</td>\n",
              "      <td>[{\"iso_639_1\": \"en\", \"name\": \"English\"}]</td>\n",
              "      <td>Released</td>\n",
              "      <td>The Legend Ends</td>\n",
              "      <td>The Dark Knight Rises</td>\n",
              "      <td>7.6</td>\n",
              "      <td>9106</td>\n",
              "    </tr>\n",
              "    <tr>\n",
              "      <th>4</th>\n",
              "      <td>260000000</td>\n",
              "      <td>[{\"id\": 28, \"name\": \"Action\"}, {\"id\": 12, \"nam...</td>\n",
              "      <td>http://movies.disney.com/john-carter</td>\n",
              "      <td>49529</td>\n",
              "      <td>[{\"id\": 818, \"name\": \"based on novel\"}, {\"id\":...</td>\n",
              "      <td>en</td>\n",
              "      <td>John Carter</td>\n",
              "      <td>John Carter is a war-weary, former military ca...</td>\n",
              "      <td>43.926995</td>\n",
              "      <td>[{\"name\": \"Walt Disney Pictures\", \"id\": 2}]</td>\n",
              "      <td>[{\"iso_3166_1\": \"US\", \"name\": \"United States o...</td>\n",
              "      <td>2012-03-07</td>\n",
              "      <td>284139100</td>\n",
              "      <td>132.0</td>\n",
              "      <td>[{\"iso_639_1\": \"en\", \"name\": \"English\"}]</td>\n",
              "      <td>Released</td>\n",
              "      <td>Lost in our world, found in another.</td>\n",
              "      <td>John Carter</td>\n",
              "      <td>6.1</td>\n",
              "      <td>2124</td>\n",
              "    </tr>\n",
              "  </tbody>\n",
              "</table>\n",
              "</div>"
            ],
            "text/plain": [
              "      budget  ... vote_count\n",
              "0  237000000  ...      11800\n",
              "1  300000000  ...       4500\n",
              "2  245000000  ...       4466\n",
              "3  250000000  ...       9106\n",
              "4  260000000  ...       2124\n",
              "\n",
              "[5 rows x 20 columns]"
            ]
          },
          "metadata": {},
          "execution_count": 22
        }
      ]
    },
    {
      "cell_type": "code",
      "metadata": {
        "colab": {
          "base_uri": "https://localhost:8080/"
        },
        "id": "Gcd9_HAEXSvQ",
        "outputId": "13b5542e-4c7e-4397-e038-87472cb00ab2"
      },
      "source": [
        "tmdb.original_language.unique() # Categoria Nominal - não existe grau, não tem maioridade sobre as outras. São apenas categorias"
      ],
      "execution_count": null,
      "outputs": [
        {
          "output_type": "execute_result",
          "data": {
            "text/plain": [
              "array(['en', 'ja', 'fr', 'zh', 'es', 'de', 'hi', 'ru', 'ko', 'te', 'cn',\n",
              "       'it', 'nl', 'ta', 'sv', 'th', 'da', 'xx', 'hu', 'cs', 'pt', 'is',\n",
              "       'tr', 'nb', 'af', 'pl', 'he', 'ar', 'vi', 'ky', 'id', 'ro', 'fa',\n",
              "       'no', 'sl', 'ps', 'el'], dtype=object)"
            ]
          },
          "metadata": {},
          "execution_count": 23
        }
      ]
    },
    {
      "cell_type": "code",
      "metadata": {
        "id": "xNrQCwvrZKqx"
      },
      "source": [
        "# Exemplo de categoria ordinal - Uma depende da outra para ser iniciada. Também, o primeiro grau vem antes do segundo e etc.\n",
        "# primeiro grau\n",
        "# segundo grau\n",
        "# terceiro grau"
      ],
      "execution_count": null,
      "outputs": []
    },
    {
      "cell_type": "code",
      "metadata": {
        "id": "r4I8StfrZsuu"
      },
      "source": [
        "# Budget => orçamento => quantitativa continuo (orçamento nas tabelas Ex. 345,34 - 345,35)"
      ],
      "execution_count": null,
      "outputs": []
    },
    {
      "cell_type": "code",
      "metadata": {
        "id": "5jEtgux2aGRF"
      },
      "source": [
        "# Quantitativa intervalar \n",
        "# quantidade de votos => 1, 2, 3, 4, 5...."
      ],
      "execution_count": null,
      "outputs": []
    },
    {
      "cell_type": "markdown",
      "metadata": {
        "id": "C0iYch7HbqbJ"
      },
      "source": [
        "Extraindo Dados atraves de categoria nominal. Para extrair algum dado, foi necessário comparar a quantidade de vezes que cada lingua apaeceu no documento."
      ]
    },
    {
      "cell_type": "code",
      "metadata": {
        "colab": {
          "base_uri": "https://localhost:8080/"
        },
        "id": "c669TGxdbXQQ",
        "outputId": "9672fd1b-8101-42c7-f1de-04025aad716f"
      },
      "source": [
        "tmdb.original_language.value_counts() \n",
        "#apenas 1 coluna com valores. O indice não apesenta valores, devido a isso não são duas colunas (exemplo abaixo)\n",
        "# é uma série"
      ],
      "execution_count": null,
      "outputs": [
        {
          "output_type": "execute_result",
          "data": {
            "text/plain": [
              "en    4505\n",
              "fr      70\n",
              "es      32\n",
              "de      27\n",
              "zh      27\n",
              "hi      19\n",
              "ja      16\n",
              "it      14\n",
              "cn      12\n",
              "ko      11\n",
              "ru      11\n",
              "pt       9\n",
              "da       7\n",
              "sv       5\n",
              "nl       4\n",
              "fa       4\n",
              "he       3\n",
              "th       3\n",
              "cs       2\n",
              "ar       2\n",
              "ro       2\n",
              "id       2\n",
              "ta       2\n",
              "nb       1\n",
              "no       1\n",
              "ps       1\n",
              "pl       1\n",
              "hu       1\n",
              "af       1\n",
              "is       1\n",
              "tr       1\n",
              "vi       1\n",
              "ky       1\n",
              "el       1\n",
              "sl       1\n",
              "xx       1\n",
              "te       1\n",
              "Name: original_language, dtype: int64"
            ]
          },
          "metadata": {},
          "execution_count": 27
        }
      ]
    },
    {
      "cell_type": "code",
      "metadata": {
        "colab": {
          "base_uri": "https://localhost:8080/"
        },
        "id": "eepEgmu3bmyX",
        "outputId": "2a4ad30f-99d7-4773-bcb4-8d75e0da6bb7"
      },
      "source": [
        "tmdb.original_language.value_counts().index #indice"
      ],
      "execution_count": null,
      "outputs": [
        {
          "output_type": "execute_result",
          "data": {
            "text/plain": [
              "Index(['en', 'fr', 'es', 'de', 'zh', 'hi', 'ja', 'it', 'cn', 'ko', 'ru', 'pt',\n",
              "       'da', 'sv', 'nl', 'fa', 'he', 'th', 'cs', 'ar', 'ro', 'id', 'ta', 'nb',\n",
              "       'no', 'ps', 'pl', 'hu', 'af', 'is', 'tr', 'vi', 'ky', 'el', 'sl', 'xx',\n",
              "       'te'],\n",
              "      dtype='object')"
            ]
          },
          "metadata": {},
          "execution_count": 28
        }
      ]
    },
    {
      "cell_type": "code",
      "metadata": {
        "colab": {
          "base_uri": "https://localhost:8080/"
        },
        "id": "I4toTFh3cUa5",
        "outputId": "957b7079-5744-46a5-e1b5-14f65ff21cac"
      },
      "source": [
        "tmdb.original_language.value_counts().values #valores"
      ],
      "execution_count": null,
      "outputs": [
        {
          "output_type": "execute_result",
          "data": {
            "text/plain": [
              "array([4505,   70,   32,   27,   27,   19,   16,   14,   12,   11,   11,\n",
              "          9,    7,    5,    4,    4,    3,    3,    2,    2,    2,    2,\n",
              "          2,    1,    1,    1,    1,    1,    1,    1,    1,    1,    1,\n",
              "          1,    1,    1,    1])"
            ]
          },
          "metadata": {},
          "execution_count": 29
        }
      ]
    },
    {
      "cell_type": "code",
      "metadata": {
        "colab": {
          "base_uri": "https://localhost:8080/",
          "height": 1000
        },
        "id": "1qtWQaeScWKE",
        "outputId": "03de2312-4108-4724-8634-422537e89376"
      },
      "source": [
        "tmdb.original_language.value_counts().to_frame()\n",
        "#É UM DATAFRAME"
      ],
      "execution_count": null,
      "outputs": [
        {
          "output_type": "execute_result",
          "data": {
            "text/html": [
              "<div>\n",
              "<style scoped>\n",
              "    .dataframe tbody tr th:only-of-type {\n",
              "        vertical-align: middle;\n",
              "    }\n",
              "\n",
              "    .dataframe tbody tr th {\n",
              "        vertical-align: top;\n",
              "    }\n",
              "\n",
              "    .dataframe thead th {\n",
              "        text-align: right;\n",
              "    }\n",
              "</style>\n",
              "<table border=\"1\" class=\"dataframe\">\n",
              "  <thead>\n",
              "    <tr style=\"text-align: right;\">\n",
              "      <th></th>\n",
              "      <th>original_language</th>\n",
              "    </tr>\n",
              "  </thead>\n",
              "  <tbody>\n",
              "    <tr>\n",
              "      <th>en</th>\n",
              "      <td>4505</td>\n",
              "    </tr>\n",
              "    <tr>\n",
              "      <th>fr</th>\n",
              "      <td>70</td>\n",
              "    </tr>\n",
              "    <tr>\n",
              "      <th>es</th>\n",
              "      <td>32</td>\n",
              "    </tr>\n",
              "    <tr>\n",
              "      <th>de</th>\n",
              "      <td>27</td>\n",
              "    </tr>\n",
              "    <tr>\n",
              "      <th>zh</th>\n",
              "      <td>27</td>\n",
              "    </tr>\n",
              "    <tr>\n",
              "      <th>hi</th>\n",
              "      <td>19</td>\n",
              "    </tr>\n",
              "    <tr>\n",
              "      <th>ja</th>\n",
              "      <td>16</td>\n",
              "    </tr>\n",
              "    <tr>\n",
              "      <th>it</th>\n",
              "      <td>14</td>\n",
              "    </tr>\n",
              "    <tr>\n",
              "      <th>cn</th>\n",
              "      <td>12</td>\n",
              "    </tr>\n",
              "    <tr>\n",
              "      <th>ko</th>\n",
              "      <td>11</td>\n",
              "    </tr>\n",
              "    <tr>\n",
              "      <th>ru</th>\n",
              "      <td>11</td>\n",
              "    </tr>\n",
              "    <tr>\n",
              "      <th>pt</th>\n",
              "      <td>9</td>\n",
              "    </tr>\n",
              "    <tr>\n",
              "      <th>da</th>\n",
              "      <td>7</td>\n",
              "    </tr>\n",
              "    <tr>\n",
              "      <th>sv</th>\n",
              "      <td>5</td>\n",
              "    </tr>\n",
              "    <tr>\n",
              "      <th>nl</th>\n",
              "      <td>4</td>\n",
              "    </tr>\n",
              "    <tr>\n",
              "      <th>fa</th>\n",
              "      <td>4</td>\n",
              "    </tr>\n",
              "    <tr>\n",
              "      <th>he</th>\n",
              "      <td>3</td>\n",
              "    </tr>\n",
              "    <tr>\n",
              "      <th>th</th>\n",
              "      <td>3</td>\n",
              "    </tr>\n",
              "    <tr>\n",
              "      <th>cs</th>\n",
              "      <td>2</td>\n",
              "    </tr>\n",
              "    <tr>\n",
              "      <th>ar</th>\n",
              "      <td>2</td>\n",
              "    </tr>\n",
              "    <tr>\n",
              "      <th>ro</th>\n",
              "      <td>2</td>\n",
              "    </tr>\n",
              "    <tr>\n",
              "      <th>id</th>\n",
              "      <td>2</td>\n",
              "    </tr>\n",
              "    <tr>\n",
              "      <th>ta</th>\n",
              "      <td>2</td>\n",
              "    </tr>\n",
              "    <tr>\n",
              "      <th>nb</th>\n",
              "      <td>1</td>\n",
              "    </tr>\n",
              "    <tr>\n",
              "      <th>no</th>\n",
              "      <td>1</td>\n",
              "    </tr>\n",
              "    <tr>\n",
              "      <th>ps</th>\n",
              "      <td>1</td>\n",
              "    </tr>\n",
              "    <tr>\n",
              "      <th>pl</th>\n",
              "      <td>1</td>\n",
              "    </tr>\n",
              "    <tr>\n",
              "      <th>hu</th>\n",
              "      <td>1</td>\n",
              "    </tr>\n",
              "    <tr>\n",
              "      <th>af</th>\n",
              "      <td>1</td>\n",
              "    </tr>\n",
              "    <tr>\n",
              "      <th>is</th>\n",
              "      <td>1</td>\n",
              "    </tr>\n",
              "    <tr>\n",
              "      <th>tr</th>\n",
              "      <td>1</td>\n",
              "    </tr>\n",
              "    <tr>\n",
              "      <th>vi</th>\n",
              "      <td>1</td>\n",
              "    </tr>\n",
              "    <tr>\n",
              "      <th>ky</th>\n",
              "      <td>1</td>\n",
              "    </tr>\n",
              "    <tr>\n",
              "      <th>el</th>\n",
              "      <td>1</td>\n",
              "    </tr>\n",
              "    <tr>\n",
              "      <th>sl</th>\n",
              "      <td>1</td>\n",
              "    </tr>\n",
              "    <tr>\n",
              "      <th>xx</th>\n",
              "      <td>1</td>\n",
              "    </tr>\n",
              "    <tr>\n",
              "      <th>te</th>\n",
              "      <td>1</td>\n",
              "    </tr>\n",
              "  </tbody>\n",
              "</table>\n",
              "</div>"
            ],
            "text/plain": [
              "    original_language\n",
              "en               4505\n",
              "fr                 70\n",
              "es                 32\n",
              "de                 27\n",
              "zh                 27\n",
              "hi                 19\n",
              "ja                 16\n",
              "it                 14\n",
              "cn                 12\n",
              "ko                 11\n",
              "ru                 11\n",
              "pt                  9\n",
              "da                  7\n",
              "sv                  5\n",
              "nl                  4\n",
              "fa                  4\n",
              "he                  3\n",
              "th                  3\n",
              "cs                  2\n",
              "ar                  2\n",
              "ro                  2\n",
              "id                  2\n",
              "ta                  2\n",
              "nb                  1\n",
              "no                  1\n",
              "ps                  1\n",
              "pl                  1\n",
              "hu                  1\n",
              "af                  1\n",
              "is                  1\n",
              "tr                  1\n",
              "vi                  1\n",
              "ky                  1\n",
              "el                  1\n",
              "sl                  1\n",
              "xx                  1\n",
              "te                  1"
            ]
          },
          "metadata": {},
          "execution_count": 30
        }
      ]
    },
    {
      "cell_type": "code",
      "metadata": {
        "colab": {
          "base_uri": "https://localhost:8080/",
          "height": 204
        },
        "id": "kTyIbOo_csXz",
        "outputId": "a88db310-80f7-488b-b063-2f4a04ccedbb"
      },
      "source": [
        "#transformando uma série em dataframe\n",
        "contagem_de_lingua = tmdb.original_language.value_counts().to_frame().reset_index()\n",
        "#resetando o indice.\n",
        "# notavel que criou uma \"coluna\" para indicar o indice\n",
        "contagem_de_lingua.columns = [\"original_language\",\"total\"] # renomeando as colunas\n",
        "contagem_de_lingua.head() # imprimindo apenas os 5 primeiros\n"
      ],
      "execution_count": null,
      "outputs": [
        {
          "output_type": "execute_result",
          "data": {
            "text/html": [
              "<div>\n",
              "<style scoped>\n",
              "    .dataframe tbody tr th:only-of-type {\n",
              "        vertical-align: middle;\n",
              "    }\n",
              "\n",
              "    .dataframe tbody tr th {\n",
              "        vertical-align: top;\n",
              "    }\n",
              "\n",
              "    .dataframe thead th {\n",
              "        text-align: right;\n",
              "    }\n",
              "</style>\n",
              "<table border=\"1\" class=\"dataframe\">\n",
              "  <thead>\n",
              "    <tr style=\"text-align: right;\">\n",
              "      <th></th>\n",
              "      <th>original_language</th>\n",
              "      <th>total</th>\n",
              "    </tr>\n",
              "  </thead>\n",
              "  <tbody>\n",
              "    <tr>\n",
              "      <th>0</th>\n",
              "      <td>en</td>\n",
              "      <td>4505</td>\n",
              "    </tr>\n",
              "    <tr>\n",
              "      <th>1</th>\n",
              "      <td>fr</td>\n",
              "      <td>70</td>\n",
              "    </tr>\n",
              "    <tr>\n",
              "      <th>2</th>\n",
              "      <td>es</td>\n",
              "      <td>32</td>\n",
              "    </tr>\n",
              "    <tr>\n",
              "      <th>3</th>\n",
              "      <td>de</td>\n",
              "      <td>27</td>\n",
              "    </tr>\n",
              "    <tr>\n",
              "      <th>4</th>\n",
              "      <td>zh</td>\n",
              "      <td>27</td>\n",
              "    </tr>\n",
              "  </tbody>\n",
              "</table>\n",
              "</div>"
            ],
            "text/plain": [
              "  original_language  total\n",
              "0                en   4505\n",
              "1                fr     70\n",
              "2                es     32\n",
              "3                de     27\n",
              "4                zh     27"
            ]
          },
          "metadata": {},
          "execution_count": 31
        }
      ]
    },
    {
      "cell_type": "markdown",
      "metadata": {
        "id": "c5GM776olz1t"
      },
      "source": [
        "# Plotando as informações - Keggle"
      ]
    },
    {
      "cell_type": "code",
      "metadata": {
        "colab": {
          "base_uri": "https://localhost:8080/",
          "height": 297
        },
        "id": "jhY6Kd2Pc-YX",
        "outputId": "023c5cfe-67b7-4996-ae91-df35c5db4de5"
      },
      "source": [
        "sns.barplot(x=\"original_language\", y = \"total\", data=contagem_de_lingua)\n",
        "#utilizando SEABORN para plotar as linguagens dos filmes \n",
        "# foi necessário isolar (value_count)\n",
        "# depois transformar em um data frame\n",
        "# resetar o indice\n",
        "# resetar o nome das colunas\n",
        "# BAIXO NIVEL"
      ],
      "execution_count": null,
      "outputs": [
        {
          "output_type": "execute_result",
          "data": {
            "text/plain": [
              "<matplotlib.axes._subplots.AxesSubplot at 0x7f54ff179690>"
            ]
          },
          "metadata": {},
          "execution_count": 83
        },
        {
          "output_type": "display_data",
          "data": {
            "image/png": "[encoded data removed]",
            "text/plain": [
              "<Figure size 432x288 with 1 Axes>"
            ]
          },
          "metadata": {
            "needs_background": "light"
          }
        }
      ]
    },
    {
      "cell_type": "code",
      "metadata": {
        "colab": {
          "base_uri": "https://localhost:8080/",
          "height": 386
        },
        "id": "yeRaQiBFd9iR",
        "outputId": "f9d89d72-ab0a-42a5-90e6-b3ef6d784bc5"
      },
      "source": [
        "sns.catplot(x = \"original_language\",kind = \"count\", data = tmdb)\n",
        "# criando o mesmo gráfico porém de alto nível"
      ],
      "execution_count": null,
      "outputs": [
        {
          "output_type": "execute_result",
          "data": {
            "text/plain": [
              "<seaborn.axisgrid.FacetGrid at 0x7f54fdba5e50>"
            ]
          },
          "metadata": {},
          "execution_count": 84
        },
        {
          "output_type": "display_data",
          "data": {
            "image/png": "[encoded data removed]",
            "text/plain": [
              "<Figure size 360x360 with 1 Axes>"
            ]
          },
          "metadata": {
            "needs_background": "light"
          }
        }
      ]
    },
    {
      "cell_type": "code",
      "metadata": {
        "colab": {
          "base_uri": "https://localhost:8080/",
          "height": 1000
        },
        "id": "mh_avNzJfE0E",
        "outputId": "787d5685-774e-4e9c-cdf5-f2768fcbcbd7"
      },
      "source": [
        "plt.pie(contagem_de_lingua[\"total\"], labels= contagem_de_lingua[\"original_language\"])\n",
        "# gráfico pizza\n",
        "# não utilizar"
      ],
      "execution_count": null,
      "outputs": [
        {
          "output_type": "execute_result",
          "data": {
            "text/plain": [
              "([<matplotlib.patches.Wedge at 0x7f54fda73b10>,\n",
              "  <matplotlib.patches.Wedge at 0x7f54fda73e90>,\n",
              "  <matplotlib.patches.Wedge at 0x7f54fda80450>,\n",
              "  <matplotlib.patches.Wedge at 0x7f54fda80490>,\n",
              "  <matplotlib.patches.Wedge at 0x7f54fda8b1d0>,\n",
              "  <matplotlib.patches.Wedge at 0x7f54fda8b850>,\n",
              "  <matplotlib.patches.Wedge at 0x7f54fda8b510>,\n",
              "  <matplotlib.patches.Wedge at 0x7f54fda8bb10>,\n",
              "  <matplotlib.patches.Wedge at 0x7f54fda809d0>,\n",
              "  <matplotlib.patches.Wedge at 0x7f54fda8b550>,\n",
              "  <matplotlib.patches.Wedge at 0x7f54fda73ad0>,\n",
              "  <matplotlib.patches.Wedge at 0x7f54fd9e4410>,\n",
              "  <matplotlib.patches.Wedge at 0x7f54fd9e4450>,\n",
              "  <matplotlib.patches.Wedge at 0x7f54fd9e4990>,\n",
              "  <matplotlib.patches.Wedge at 0x7f54fd9f1410>,\n",
              "  <matplotlib.patches.Wedge at 0x7f54fd9f1450>,\n",
              "  <matplotlib.patches.Wedge at 0x7f54fd9f1990>,\n",
              "  <matplotlib.patches.Wedge at 0x7f54fd9fc410>,\n",
              "  <matplotlib.patches.Wedge at 0x7f54fd9fc450>,\n",
              "  <matplotlib.patches.Wedge at 0x7f54fd9fc990>,\n",
              "  <matplotlib.patches.Wedge at 0x7f54fda07410>,\n",
              "  <matplotlib.patches.Wedge at 0x7f54fda07450>,\n",
              "  <matplotlib.patches.Wedge at 0x7f54fda07990>,\n",
              "  <matplotlib.patches.Wedge at 0x7f54fda15410>,\n",
              "  <matplotlib.patches.Wedge at 0x7f54fda15450>,\n",
              "  <matplotlib.patches.Wedge at 0x7f54fda15990>,\n",
              "  <matplotlib.patches.Wedge at 0x7f54fd9a1410>,\n",
              "  <matplotlib.patches.Wedge at 0x7f54fd9a1450>,\n",
              "  <matplotlib.patches.Wedge at 0x7f54fd9a1990>,\n",
              "  <matplotlib.patches.Wedge at 0x7f54fd9ae410>,\n",
              "  <matplotlib.patches.Wedge at 0x7f54fd9ae450>,\n",
              "  <matplotlib.patches.Wedge at 0x7f54fd9ae990>,\n",
              "  <matplotlib.patches.Wedge at 0x7f54fd9ba410>,\n",
              "  <matplotlib.patches.Wedge at 0x7f54fd9ba450>,\n",
              "  <matplotlib.patches.Wedge at 0x7f54fd9ba990>,\n",
              "  <matplotlib.patches.Wedge at 0x7f54fd9c6410>,\n",
              "  <matplotlib.patches.Wedge at 0x7f54fd9c6450>],\n",
              " [Text(-1.0791697536499925, 0.2130554923183512, 'en'),\n",
              "  Text(1.0355355017029462, -0.3710339940124459, 'fr'),\n",
              "  Text(1.0579676486019882, -0.3011718023181785, 'es'),\n",
              "  Text(1.0687996606645356, -0.26012936274741094, 'de'),\n",
              "  Text(1.0773191105706255, -0.22222406260195313, 'zh'),\n",
              "  Text(1.0835167978583342, -0.18971386021801853, 'hi'),\n",
              "  Text(1.0875756432724297, -0.16486121484618815, 'ja'),\n",
              "  Text(1.0906010773146022, -0.14348968659882622, 'it'),\n",
              "  Text(1.092883487371409, -0.12492270822755745, 'cn'),\n",
              "  Text(1.0946390911069936, -0.10846778425161549, 'ko'),\n",
              "  Text(1.0960865535188649, -0.09270527058984593, 'ru'),\n",
              "  Text(1.0972054830031333, -0.07835896928789601, 'pt'),\n",
              "  Text(1.097965443340663, -0.06687215586282344, 'da'),\n",
              "  Text(1.0984565010300316, -0.05825217030171998, 'sv'),\n",
              "  Text(1.0987803851616647, -0.0517847968421653, 'nl'),\n",
              "  Text(1.0990363161210686, -0.04603450713357274, 'fa'),\n",
              "  Text(1.0992355702663055, -0.04100196411527794, 'he'),\n",
              "  Text(1.0993880184234357, -0.03668766750546649, 'th'),\n",
              "  Text(1.0995021239019234, -0.033091985965784415, 'cs'),\n",
              "  Text(1.099584941078101, -0.03021518416739545, 'ar'),\n",
              "  Text(1.0996602312343366, -0.027338175536150495, 'ro'),\n",
              "  Text(1.099727993855245, -0.024460979766119193, 'id'),\n",
              "  Text(1.0997882284769684, -0.02158361655264929, 'ta'),\n",
              "  Text(1.0998284639438185, -0.01942549610642471, 'nb'),\n",
              "  Text(1.0998529348820232, -0.01798670707495573, 'no'),\n",
              "  Text(1.0998755236058106, -0.01654788726224571, 'ps'),\n",
              "  Text(1.0998962300765243, -0.01510903913059323, 'pl'),\n",
              "  Text(1.0999150542587282, -0.013670165142345335, 'hu'),\n",
              "  Text(1.0999319961202083, -0.012231267759896247, 'af'),\n",
              "  Text(1.0999470556319713, -0.01079234944567632, 'is'),\n",
              "  Text(1.099960232768245, -0.00935341266215563, 'tr'),\n",
              "  Text(1.0999715275064792, -0.007914459871831963, 'vi'),\n",
              "  Text(1.0999809398273452, -0.006475493537234394, 'ky'),\n",
              "  Text(1.0999884697147349, -0.005036516120911278, 'el'),\n",
              "  Text(1.0999941171557621, -0.0035975300854338356, 'sl'),\n",
              "  Text(1.0999978821407626, -0.0021585378933851127, 'xx'),\n",
              "  Text(1.0999997646632929, -0.0007195420073586872, 'te')])"
            ]
          },
          "metadata": {},
          "execution_count": 85
        },
        {
          "output_type": "display_data",
          "data": {
            "image/png": "[encoded data removed]",
            "text/plain": [
              "<Figure size 432x288 with 1 Axes>"
            ]
          },
          "metadata": {}
        }
      ]
    },
    {
      "cell_type": "markdown",
      "metadata": {
        "id": "RJkYFpnM-ver"
      },
      "source": [
        "Comparando todas as linguas com inglês. "
      ]
    },
    {
      "cell_type": "code",
      "metadata": {
        "colab": {
          "base_uri": "https://localhost:8080/"
        },
        "id": "Zvo2taExhGpA",
        "outputId": "752c2624-0b34-474c-fb4f-2ce440fa553a"
      },
      "source": [
        "total_por_lingua = tmdb[\"original_language\"].value_counts() #total de linguas\n",
        "total_geral = total_por_lingua.sum() # soma de todas as linguas\n",
        "total_ingles = total_por_lingua.loc[\"en\"] # qntd total de linguas em inglês\n",
        "total_resto = total_geral - total_ingles # total de linguas além do ingles (todas juntas)\n",
        "print(total_ingles, total_resto)"
      ],
      "execution_count": null,
      "outputs": [
        {
          "output_type": "stream",
          "name": "stdout",
          "text": [
            "4505 298\n"
          ]
        }
      ]
    },
    {
      "cell_type": "code",
      "metadata": {
        "colab": {
          "base_uri": "https://localhost:8080/",
          "height": 297
        },
        "id": "1OPBWgsujnR3",
        "outputId": "00ac6ed4-6689-4a9f-96e6-473687e69ef6"
      },
      "source": [
        "dados = {\n",
        "    'lingua' : ['inglês', 'outros'],\n",
        "    'total' : [total_ingles, total_resto]\n",
        "}\n",
        "\n",
        "dados = pd.DataFrame(dados)\n",
        "sns.barplot(x='lingua', y='total', data = dados)"
      ],
      "execution_count": null,
      "outputs": [
        {
          "output_type": "execute_result",
          "data": {
            "text/plain": [
              "<matplotlib.axes._subplots.AxesSubplot at 0x7f54fd96d290>"
            ]
          },
          "metadata": {},
          "execution_count": 87
        },
        {
          "output_type": "display_data",
          "data": {
            "image/png": "[encoded data removed]",
            "text/plain": [
              "<Figure size 432x288 with 1 Axes>"
            ]
          },
          "metadata": {
            "needs_background": "light"
          }
        }
      ]
    },
    {
      "cell_type": "code",
      "metadata": {
        "id": "3AhXC8ZQlh4L",
        "colab": {
          "base_uri": "https://localhost:8080/",
          "height": 1000
        },
        "outputId": "c9c467cd-4c30-47d2-a8df-f06fae1f56e8"
      },
      "source": [
        "# analisar diferente de inglês\n",
        "tmdb.query(\"original_language != 'en'\")"
      ],
      "execution_count": null,
      "outputs": [
        {
          "output_type": "execute_result",
          "data": {
            "text/html": [
              "<div>\n",
              "<style scoped>\n",
              "    .dataframe tbody tr th:only-of-type {\n",
              "        vertical-align: middle;\n",
              "    }\n",
              "\n",
              "    .dataframe tbody tr th {\n",
              "        vertical-align: top;\n",
              "    }\n",
              "\n",
              "    .dataframe thead th {\n",
              "        text-align: right;\n",
              "    }\n",
              "</style>\n",
              "<table border=\"1\" class=\"dataframe\">\n",
              "  <thead>\n",
              "    <tr style=\"text-align: right;\">\n",
              "      <th></th>\n",
              "      <th>budget</th>\n",
              "      <th>genres</th>\n",
              "      <th>homepage</th>\n",
              "      <th>id</th>\n",
              "      <th>keywords</th>\n",
              "      <th>original_language</th>\n",
              "      <th>original_title</th>\n",
              "      <th>overview</th>\n",
              "      <th>popularity</th>\n",
              "      <th>production_companies</th>\n",
              "      <th>production_countries</th>\n",
              "      <th>release_date</th>\n",
              "      <th>revenue</th>\n",
              "      <th>runtime</th>\n",
              "      <th>spoken_languages</th>\n",
              "      <th>status</th>\n",
              "      <th>tagline</th>\n",
              "      <th>title</th>\n",
              "      <th>vote_average</th>\n",
              "      <th>vote_count</th>\n",
              "    </tr>\n",
              "  </thead>\n",
              "  <tbody>\n",
              "    <tr>\n",
              "      <th>97</th>\n",
              "      <td>15000000</td>\n",
              "      <td>[{\"id\": 28, \"name\": \"Action\"}, {\"id\": 12, \"nam...</td>\n",
              "      <td>NaN</td>\n",
              "      <td>315011</td>\n",
              "      <td>[{\"id\": 1299, \"name\": \"monster\"}, {\"id\": 7671,...</td>\n",
              "      <td>ja</td>\n",
              "      <td>シン・ゴジラ</td>\n",
              "      <td>From the mind behind Evangelion comes a hit la...</td>\n",
              "      <td>9.476999</td>\n",
              "      <td>[{\"name\": \"Cine Bazar\", \"id\": 5896}, {\"name\": ...</td>\n",
              "      <td>[{\"iso_3166_1\": \"JP\", \"name\": \"Japan\"}]</td>\n",
              "      <td>2016-07-29</td>\n",
              "      <td>77000000</td>\n",
              "      <td>120.0</td>\n",
              "      <td>[{\"iso_639_1\": \"it\", \"name\": \"Italiano\"}, {\"is...</td>\n",
              "      <td>Released</td>\n",
              "      <td>A god incarnate. A city doomed.</td>\n",
              "      <td>Shin Godzilla</td>\n",
              "      <td>6.5</td>\n",
              "      <td>143</td>\n",
              "    </tr>\n",
              "    <tr>\n",
              "      <th>235</th>\n",
              "      <td>97250400</td>\n",
              "      <td>[{\"id\": 14, \"name\": \"Fantasy\"}, {\"id\": 12, \"na...</td>\n",
              "      <td>http://www.asterixauxjeuxolympiques.com/index.php</td>\n",
              "      <td>2395</td>\n",
              "      <td>[{\"id\": 271, \"name\": \"competition\"}, {\"id\": 12...</td>\n",
              "      <td>fr</td>\n",
              "      <td>Astérix aux Jeux Olympiques</td>\n",
              "      <td>Astérix and Obélix have to win the Olympic Gam...</td>\n",
              "      <td>20.344364</td>\n",
              "      <td>[{\"name\": \"Constantin Film\", \"id\": 47}, {\"name...</td>\n",
              "      <td>[{\"iso_3166_1\": \"BE\", \"name\": \"Belgium\"}, {\"is...</td>\n",
              "      <td>2008-01-13</td>\n",
              "      <td>132900000</td>\n",
              "      <td>116.0</td>\n",
              "      <td>[{\"iso_639_1\": \"fr\", \"name\": \"Fran\\u00e7ais\"},...</td>\n",
              "      <td>Released</td>\n",
              "      <td>NaN</td>\n",
              "      <td>Asterix at the Olympic Games</td>\n",
              "      <td>5.0</td>\n",
              "      <td>471</td>\n",
              "    </tr>\n",
              "    <tr>\n",
              "      <th>317</th>\n",
              "      <td>94000000</td>\n",
              "      <td>[{\"id\": 18, \"name\": \"Drama\"}, {\"id\": 36, \"name...</td>\n",
              "      <td>http://www.theflowersofwarmovie.com/</td>\n",
              "      <td>76758</td>\n",
              "      <td>[{\"id\": 173251, \"name\": \"forced prostitution\"}...</td>\n",
              "      <td>zh</td>\n",
              "      <td>金陵十三釵</td>\n",
              "      <td>A Westerner finds refuge with a group of women...</td>\n",
              "      <td>12.516546</td>\n",
              "      <td>[{\"name\": \"Beijing New Picture Film Co. Ltd.\",...</td>\n",
              "      <td>[{\"iso_3166_1\": \"CN\", \"name\": \"China\"}, {\"iso_...</td>\n",
              "      <td>2011-12-15</td>\n",
              "      <td>95311434</td>\n",
              "      <td>145.0</td>\n",
              "      <td>[{\"iso_639_1\": \"zh\", \"name\": \"\\u666e\\u901a\\u8b...</td>\n",
              "      <td>Released</td>\n",
              "      <td>NaN</td>\n",
              "      <td>The Flowers of War</td>\n",
              "      <td>7.1</td>\n",
              "      <td>187</td>\n",
              "    </tr>\n",
              "    <tr>\n",
              "      <th>474</th>\n",
              "      <td>0</td>\n",
              "      <td>[{\"id\": 9648, \"name\": \"Mystery\"}, {\"id\": 18, \"...</td>\n",
              "      <td>NaN</td>\n",
              "      <td>330770</td>\n",
              "      <td>[{\"id\": 428, \"name\": \"nurse\"}, {\"id\": 658, \"na...</td>\n",
              "      <td>fr</td>\n",
              "      <td>Évolution</td>\n",
              "      <td>11-year-old Nicolas lives with his mother in a...</td>\n",
              "      <td>3.300061</td>\n",
              "      <td>[{\"name\": \"Ex Nihilo\", \"id\": 3307}, {\"name\": \"...</td>\n",
              "      <td>[{\"iso_3166_1\": \"BE\", \"name\": \"Belgium\"}, {\"is...</td>\n",
              "      <td>2015-09-14</td>\n",
              "      <td>0</td>\n",
              "      <td>81.0</td>\n",
              "      <td>[{\"iso_639_1\": \"fr\", \"name\": \"Fran\\u00e7ais\"}]</td>\n",
              "      <td>Released</td>\n",
              "      <td>NaN</td>\n",
              "      <td>Evolution</td>\n",
              "      <td>6.4</td>\n",
              "      <td>47</td>\n",
              "    </tr>\n",
              "    <tr>\n",
              "      <th>492</th>\n",
              "      <td>8000000</td>\n",
              "      <td>[{\"id\": 35, \"name\": \"Comedy\"}, {\"id\": 16, \"nam...</td>\n",
              "      <td>NaN</td>\n",
              "      <td>293644</td>\n",
              "      <td>[{\"id\": 209714, \"name\": \"3d\"}]</td>\n",
              "      <td>es</td>\n",
              "      <td>Don Gato: El inicio de la pandilla</td>\n",
              "      <td>Top Cat has arrived to charm his way into your...</td>\n",
              "      <td>0.719996</td>\n",
              "      <td>[{\"name\": \"Anima Estudios\", \"id\": 9965}, {\"nam...</td>\n",
              "      <td>[{\"iso_3166_1\": \"IN\", \"name\": \"India\"}, {\"iso_...</td>\n",
              "      <td>2015-10-30</td>\n",
              "      <td>0</td>\n",
              "      <td>89.0</td>\n",
              "      <td>[]</td>\n",
              "      <td>Released</td>\n",
              "      <td>NaN</td>\n",
              "      <td>Top Cat Begins</td>\n",
              "      <td>5.3</td>\n",
              "      <td>9</td>\n",
              "    </tr>\n",
              "    <tr>\n",
              "      <th>...</th>\n",
              "      <td>...</td>\n",
              "      <td>...</td>\n",
              "      <td>...</td>\n",
              "      <td>...</td>\n",
              "      <td>...</td>\n",
              "      <td>...</td>\n",
              "      <td>...</td>\n",
              "      <td>...</td>\n",
              "      <td>...</td>\n",
              "      <td>...</td>\n",
              "      <td>...</td>\n",
              "      <td>...</td>\n",
              "      <td>...</td>\n",
              "      <td>...</td>\n",
              "      <td>...</td>\n",
              "      <td>...</td>\n",
              "      <td>...</td>\n",
              "      <td>...</td>\n",
              "      <td>...</td>\n",
              "      <td>...</td>\n",
              "    </tr>\n",
              "    <tr>\n",
              "      <th>4739</th>\n",
              "      <td>0</td>\n",
              "      <td>[{\"id\": 35, \"name\": \"Comedy\"}, {\"id\": 10749, \"...</td>\n",
              "      <td>NaN</td>\n",
              "      <td>90414</td>\n",
              "      <td>[{\"id\": 187056, \"name\": \"woman director\"}]</td>\n",
              "      <td>fr</td>\n",
              "      <td>I Love You, Don't Touch Me!</td>\n",
              "      <td>The story of a 25 year old virgin girl, lookin...</td>\n",
              "      <td>0.020839</td>\n",
              "      <td>[]</td>\n",
              "      <td>[{\"iso_3166_1\": \"US\", \"name\": \"United States o...</td>\n",
              "      <td>1997-01-21</td>\n",
              "      <td>0</td>\n",
              "      <td>86.0</td>\n",
              "      <td>[{\"iso_639_1\": \"en\", \"name\": \"English\"}]</td>\n",
              "      <td>Released</td>\n",
              "      <td>Just Your Typical Boy-Loves-Girl Who Doesn't L...</td>\n",
              "      <td>I Love You, Don't Touch Me!</td>\n",
              "      <td>6.0</td>\n",
              "      <td>1</td>\n",
              "    </tr>\n",
              "    <tr>\n",
              "      <th>4751</th>\n",
              "      <td>0</td>\n",
              "      <td>[{\"id\": 18, \"name\": \"Drama\"}, {\"id\": 10749, \"n...</td>\n",
              "      <td>NaN</td>\n",
              "      <td>42109</td>\n",
              "      <td>[]</td>\n",
              "      <td>pt</td>\n",
              "      <td>Gabriela, Cravo e Canela</td>\n",
              "      <td>In 1925, Gabriela becomes cook, mistress, and ...</td>\n",
              "      <td>0.557602</td>\n",
              "      <td>[{\"name\": \"United Artists\", \"id\": 60}, {\"name\"...</td>\n",
              "      <td>[{\"iso_3166_1\": \"BR\", \"name\": \"Brazil\"}]</td>\n",
              "      <td>1983-03-24</td>\n",
              "      <td>0</td>\n",
              "      <td>99.0</td>\n",
              "      <td>[{\"iso_639_1\": \"pt\", \"name\": \"Portugu\\u00eas\"}]</td>\n",
              "      <td>Released</td>\n",
              "      <td>NaN</td>\n",
              "      <td>Gabriela</td>\n",
              "      <td>6.0</td>\n",
              "      <td>2</td>\n",
              "    </tr>\n",
              "    <tr>\n",
              "      <th>4790</th>\n",
              "      <td>0</td>\n",
              "      <td>[{\"id\": 18, \"name\": \"Drama\"}, {\"id\": 10769, \"n...</td>\n",
              "      <td>NaN</td>\n",
              "      <td>13898</td>\n",
              "      <td>[]</td>\n",
              "      <td>fa</td>\n",
              "      <td>دایره</td>\n",
              "      <td>Various women struggle to function in the oppr...</td>\n",
              "      <td>1.193779</td>\n",
              "      <td>[{\"name\": \"Jafar Panahi Film Productions\", \"id...</td>\n",
              "      <td>[{\"iso_3166_1\": \"IR\", \"name\": \"Iran\"}]</td>\n",
              "      <td>2000-09-08</td>\n",
              "      <td>0</td>\n",
              "      <td>90.0</td>\n",
              "      <td>[{\"iso_639_1\": \"fa\", \"name\": \"\\u0641\\u0627\\u06...</td>\n",
              "      <td>Released</td>\n",
              "      <td>NaN</td>\n",
              "      <td>The Circle</td>\n",
              "      <td>6.6</td>\n",
              "      <td>17</td>\n",
              "    </tr>\n",
              "    <tr>\n",
              "      <th>4792</th>\n",
              "      <td>20000</td>\n",
              "      <td>[{\"id\": 80, \"name\": \"Crime\"}, {\"id\": 27, \"name...</td>\n",
              "      <td>NaN</td>\n",
              "      <td>36095</td>\n",
              "      <td>[{\"id\": 233, \"name\": \"japan\"}, {\"id\": 549, \"na...</td>\n",
              "      <td>ja</td>\n",
              "      <td>キュア</td>\n",
              "      <td>A wave of gruesome murders is sweeping Tokyo. ...</td>\n",
              "      <td>0.212443</td>\n",
              "      <td>[{\"name\": \"Daiei Studios\", \"id\": 881}]</td>\n",
              "      <td>[{\"iso_3166_1\": \"JP\", \"name\": \"Japan\"}]</td>\n",
              "      <td>1997-11-06</td>\n",
              "      <td>99000</td>\n",
              "      <td>111.0</td>\n",
              "      <td>[{\"iso_639_1\": \"ja\", \"name\": \"\\u65e5\\u672c\\u8a...</td>\n",
              "      <td>Released</td>\n",
              "      <td>Madness. Terror. Murder.</td>\n",
              "      <td>Cure</td>\n",
              "      <td>7.4</td>\n",
              "      <td>63</td>\n",
              "    </tr>\n",
              "    <tr>\n",
              "      <th>4798</th>\n",
              "      <td>220000</td>\n",
              "      <td>[{\"id\": 28, \"name\": \"Action\"}, {\"id\": 80, \"nam...</td>\n",
              "      <td>NaN</td>\n",
              "      <td>9367</td>\n",
              "      <td>[{\"id\": 5616, \"name\": \"united states\\u2013mexi...</td>\n",
              "      <td>es</td>\n",
              "      <td>El Mariachi</td>\n",
              "      <td>El Mariachi just wants to play his guitar and ...</td>\n",
              "      <td>14.269792</td>\n",
              "      <td>[{\"name\": \"Columbia Pictures\", \"id\": 5}]</td>\n",
              "      <td>[{\"iso_3166_1\": \"MX\", \"name\": \"Mexico\"}, {\"iso...</td>\n",
              "      <td>1992-09-04</td>\n",
              "      <td>2040920</td>\n",
              "      <td>81.0</td>\n",
              "      <td>[{\"iso_639_1\": \"es\", \"name\": \"Espa\\u00f1ol\"}]</td>\n",
              "      <td>Released</td>\n",
              "      <td>He didn't come looking for trouble, but troubl...</td>\n",
              "      <td>El Mariachi</td>\n",
              "      <td>6.6</td>\n",
              "      <td>238</td>\n",
              "    </tr>\n",
              "  </tbody>\n",
              "</table>\n",
              "<p>298 rows × 20 columns</p>\n",
              "</div>"
            ],
            "text/plain": [
              "        budget  ... vote_count\n",
              "97    15000000  ...        143\n",
              "235   97250400  ...        471\n",
              "317   94000000  ...        187\n",
              "474          0  ...         47\n",
              "492    8000000  ...          9\n",
              "...        ...  ...        ...\n",
              "4739         0  ...          1\n",
              "4751         0  ...          2\n",
              "4790         0  ...         17\n",
              "4792     20000  ...         63\n",
              "4798    220000  ...        238\n",
              "\n",
              "[298 rows x 20 columns]"
            ]
          },
          "metadata": {},
          "execution_count": 88
        }
      ]
    },
    {
      "cell_type": "markdown",
      "metadata": {
        "id": "-O6c_0kVcMls"
      },
      "source": [
        "Plotando os dados sem a lingua Inglês"
      ]
    },
    {
      "cell_type": "code",
      "metadata": {
        "colab": {
          "base_uri": "https://localhost:8080/"
        },
        "id": "_8INSNSsifk_",
        "outputId": "af98ace8-606e-421d-cdff-def87363b95f"
      },
      "source": [
        "total_de_filmes_outras_linguas = tmdb.query(\"original_language != 'en'\").original_language.value_counts()\n",
        "total_de_filmes_outras_linguas"
      ],
      "execution_count": null,
      "outputs": [
        {
          "output_type": "execute_result",
          "data": {
            "text/plain": [
              "fr    70\n",
              "es    32\n",
              "de    27\n",
              "zh    27\n",
              "hi    19\n",
              "ja    16\n",
              "it    14\n",
              "cn    12\n",
              "ru    11\n",
              "ko    11\n",
              "pt     9\n",
              "da     7\n",
              "sv     5\n",
              "nl     4\n",
              "fa     4\n",
              "he     3\n",
              "th     3\n",
              "id     2\n",
              "ta     2\n",
              "ro     2\n",
              "cs     2\n",
              "ar     2\n",
              "no     1\n",
              "el     1\n",
              "pl     1\n",
              "hu     1\n",
              "nb     1\n",
              "af     1\n",
              "tr     1\n",
              "ps     1\n",
              "ky     1\n",
              "sl     1\n",
              "is     1\n",
              "te     1\n",
              "vi     1\n",
              "xx     1\n",
              "Name: original_language, dtype: int64"
            ]
          },
          "metadata": {},
          "execution_count": 107
        }
      ]
    },
    {
      "cell_type": "code",
      "metadata": {
        "colab": {
          "base_uri": "https://localhost:8080/",
          "height": 386
        },
        "id": "H7e5EyDlbQUw",
        "outputId": "73dd0c2d-bad6-494e-9e0b-45a8a550a8cc"
      },
      "source": [
        "filmes_sem_ingles = tmdb.query(\"original_language != 'en'\")\n",
        "sns.catplot(x=\"original_language\",kind = \"count\", data = filmes_sem_ingles)"
      ],
      "execution_count": null,
      "outputs": [
        {
          "output_type": "execute_result",
          "data": {
            "text/plain": [
              "<seaborn.axisgrid.FacetGrid at 0x7f54fd87bc10>"
            ]
          },
          "metadata": {},
          "execution_count": 94
        },
        {
          "output_type": "display_data",
          "data": {
            "image/png": "[encoded data removed]",
            "text/plain": [
              "<Figure size 360x360 with 1 Axes>"
            ]
          },
          "metadata": {
            "needs_background": "light"
          }
        }
      ]
    },
    {
      "cell_type": "code",
      "metadata": {
        "id": "833cvseAaN37"
      },
      "source": [
        ""
      ],
      "execution_count": null,
      "outputs": []
    },
    {
      "cell_type": "markdown",
      "metadata": {
        "id": "ZCoUNZ2UgvBk"
      },
      "source": [
        "# Melhorando a visualização - DATA VISUALIZATION\n"
      ]
    },
    {
      "cell_type": "code",
      "metadata": {
        "colab": {
          "base_uri": "https://localhost:8080/"
        },
        "id": "HnuzwK6YjeZV",
        "outputId": "6781ac10-269d-410c-8508-89c3e28c961e"
      },
      "source": [
        "filmes_sem_ingles = tmdb.query(\"original_language != 'en'\").original_language.value_counts()\n",
        "filmes_sem_ingles"
      ],
      "execution_count": null,
      "outputs": [
        {
          "output_type": "execute_result",
          "data": {
            "text/plain": [
              "fr    70\n",
              "es    32\n",
              "de    27\n",
              "zh    27\n",
              "hi    19\n",
              "ja    16\n",
              "it    14\n",
              "cn    12\n",
              "ru    11\n",
              "ko    11\n",
              "pt     9\n",
              "da     7\n",
              "sv     5\n",
              "nl     4\n",
              "fa     4\n",
              "he     3\n",
              "th     3\n",
              "id     2\n",
              "ta     2\n",
              "ro     2\n",
              "cs     2\n",
              "ar     2\n",
              "no     1\n",
              "el     1\n",
              "pl     1\n",
              "hu     1\n",
              "nb     1\n",
              "af     1\n",
              "tr     1\n",
              "ps     1\n",
              "ky     1\n",
              "sl     1\n",
              "is     1\n",
              "te     1\n",
              "vi     1\n",
              "xx     1\n",
              "Name: original_language, dtype: int64"
            ]
          },
          "metadata": {},
          "execution_count": 98
        }
      ]
    },
    {
      "cell_type": "code",
      "metadata": {
        "colab": {
          "base_uri": "https://localhost:8080/",
          "height": 386
        },
        "id": "QPWvK5_yg0fA",
        "outputId": "00dd3d99-b1a6-4f82-8a41-e547dcb88db9"
      },
      "source": [
        "sns.catplot(x=\"original_language\",kind = \"count\", data = filmes_sem_ingles,\n",
        "            aspect = 2,\n",
        "            palette = \"GnBu_d\",\n",
        "            order = total_de_filmes_outras_linguas.index)\n"
      ],
      "execution_count": null,
      "outputs": [
        {
          "output_type": "execute_result",
          "data": {
            "text/plain": [
              "<seaborn.axisgrid.FacetGrid at 0x7f54f97fe7d0>"
            ]
          },
          "metadata": {},
          "execution_count": 109
        },
        {
          "output_type": "display_data",
          "data": {
            "image/png": "[encoded data removed]",
            "text/plain": [
              "<Figure size 720x360 with 1 Axes>"
            ]
          },
          "metadata": {
            "needs_background": "light"
          }
        }
      ]
    },
    {
      "cell_type": "code",
      "metadata": {
        "id": "KiHmaewtg-_N"
      },
      "source": [
        ""
      ],
      "execution_count": null,
      "outputs": []
    }
  ]
}